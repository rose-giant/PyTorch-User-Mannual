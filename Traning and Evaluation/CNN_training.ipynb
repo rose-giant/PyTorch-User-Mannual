{
 "cells": [
  {
   "cell_type": "code",
   "execution_count": null,
   "metadata": {},
   "outputs": [
    {
     "name": "stdout",
     "output_type": "stream",
     "text": [
      "Files already downloaded and verified\n",
      "Files already downloaded and verified\n",
      "Epoch: 1/20 | Time: 56.221s | Training Loss: 1.5963 | Validation Loss: 1.2159\n",
      "Validation loss decreased (inf --> 1.2159). Saving model as net_cifar10.pt\n",
      "Epoch: 2/20 | Time: 55.912s | Training Loss: 1.2161 | Validation Loss: 1.0214\n",
      "Validation loss decreased (1.2159 --> 1.0214). Saving model as net_cifar10.pt\n",
      "Epoch: 3/20 | Time: 55.709s | Training Loss: 1.0763 | Validation Loss: 0.9137\n",
      "Validation loss decreased (1.0214 --> 0.9137). Saving model as net_cifar10.pt\n",
      "Epoch: 4/20 | Time: 58.045s | Training Loss: 0.9612 | Validation Loss: 0.8675\n",
      "Validation loss decreased (0.9137 --> 0.8675). Saving model as net_cifar10.pt\n",
      "Epoch: 5/20 | Time: 70.997s | Training Loss: 0.8915 | Validation Loss: 0.8270\n",
      "Validation loss decreased (0.8675 --> 0.8270). Saving model as net_cifar10.pt\n",
      "Epoch: 6/20 | Time: 59.420s | Training Loss: 0.8339 | Validation Loss: 0.7875\n",
      "Validation loss decreased (0.8270 --> 0.7875). Saving model as net_cifar10.pt\n",
      "Epoch: 7/20 | Time: 52.456s | Training Loss: 0.7751 | Validation Loss: 0.7707\n",
      "Validation loss decreased (0.7875 --> 0.7707). Saving model as net_cifar10.pt\n",
      "Epoch: 8/20 | Time: 49.856s | Training Loss: 0.7287 | Validation Loss: 0.7374\n",
      "Validation loss decreased (0.7707 --> 0.7374). Saving model as net_cifar10.pt\n",
      "Epoch: 9/20 | Time: 50.489s | Training Loss: 0.6780 | Validation Loss: 0.6956\n",
      "Validation loss decreased (0.7374 --> 0.6956). Saving model as net_cifar10.pt\n",
      "Epoch: 10/20 | Time: 55.473s | Training Loss: 0.6379 | Validation Loss: 0.7020\n",
      "Epoch: 11/20 | Time: 54.248s | Training Loss: 0.5979 | Validation Loss: 0.6933\n",
      "Validation loss decreased (0.6956 --> 0.6933). Saving model as net_cifar10.pt\n",
      "Epoch: 12/20 | Time: 53.413s | Training Loss: 0.5666 | Validation Loss: 0.6709\n",
      "Validation loss decreased (0.6933 --> 0.6709). Saving model as net_cifar10.pt\n",
      "Epoch: 13/20 | Time: 51.613s | Training Loss: 0.5313 | Validation Loss: 0.7784\n",
      "Epoch: 14/20 | Time: 51.419s | Training Loss: 0.5028 | Validation Loss: 0.7080\n",
      "Epoch: 15/20 | Time: 50.266s | Training Loss: 0.4743 | Validation Loss: 0.6883\n",
      "Epoch: 16/20 | Time: 49.575s | Training Loss: 0.4438 | Validation Loss: 0.6822\n",
      "Epoch: 17/20 | Time: 50.288s | Training Loss: 0.4217 | Validation Loss: 0.7266\n",
      "Epoch: 18/20 | Time: 51.122s | Training Loss: 0.4020 | Validation Loss: 0.7073\n",
      "Epoch: 19/20 | Time: 57.532s | Training Loss: 0.3846 | Validation Loss: 0.8036\n",
      "Epoch: 20/20 | Time: 60.129s | Training Loss: 0.3622 | Validation Loss: 0.7173\n",
      "Finished Training\n"
     ]
    },
    {
     "name": "stderr",
     "output_type": "stream",
     "text": [
      "/tmp/ipykernel_19058/1292922944.py:126: FutureWarning: You are using `torch.load` with `weights_only=False` (the current default value), which uses the default pickle module implicitly. It is possible to construct malicious pickle data which will execute arbitrary code during unpickling (See https://github.com/pytorch/pytorch/blob/main/SECURITY.md#untrusted-models for more details). In a future release, the default value for `weights_only` will be flipped to `True`. This limits the functions that could be executed during unpickling. Arbitrary objects will no longer be allowed to be loaded via this mode unless they are explicitly allowlisted by the user via `torch.serialization.add_safe_globals`. We recommend you start setting `weights_only=True` for any use case where you don't have full control of the loaded file. Please open an issue on GitHub for any issues related to this experimental feature.\n",
      "  net.load_state_dict(torch.load('net_cifar10.pt'))\n"
     ]
    },
    {
     "name": "stdout",
     "output_type": "stream",
     "text": [
      "Test Loss: 0.681651\n",
      "\n",
      "Test Accuracy (Overall): 77.64%\n"
     ]
    }
   ],
   "source": [
    "import time\n",
    "import torch\n",
    "import torch.nn as nn\n",
    "import numpy as np\n",
    "from torch.utils.data import random_split, DataLoader\n",
    "import torch.optim as optim\n",
    "import torchvision\n",
    "import torchvision.transforms as transforms\n",
    "import torch.nn.functional as F\n"
   ]
  },
  {
   "cell_type": "code",
   "execution_count": null,
   "metadata": {},
   "outputs": [],
   "source": [
    "batch_size = 64\n",
    "valid_size = 0.2\n",
    "num_epochs = 20\n",
    "num_workers = 4"
   ]
  },
  {
   "cell_type": "code",
   "execution_count": null,
   "metadata": {},
   "outputs": [],
   "source": [
    "transform = transforms.Compose([\n",
    "    transforms.ToTensor(),\n",
    "    transforms.Normalize((0.5, 0.5, 0.5), (0.5, 0.5, 0.5))\n",
    "])\n",
    "\n",
    "full_train_data = torchvision.datasets.CIFAR10('data', train=True, download=True, transform=transform)\n",
    "test_data = torchvision.datasets.CIFAR10('data', train=False, download=True, transform=transform)\n",
    "\n",
    "num_train = len(full_train_data)\n",
    "split = int(np.floor(valid_size * num_train)) \n",
    "train_size = num_train - split\n",
    "train_data, valid_data = random_split(full_train_data, [train_size, split])\n",
    "train_loader = DataLoader(train_data, batch_size=batch_size, shuffle=True, num_workers=num_workers)\n",
    "valid_loader = DataLoader(valid_data, batch_size=batch_size, shuffle=False, num_workers=num_workers)\n",
    "test_loader = DataLoader(test_data, batch_size=batch_size, shuffle=False, num_workers=num_workers)\n",
    "\n",
    "classes = ['plane', 'vehicle', 'bird', 'cat', 'deer', 'dog', 'frog', 'horse', 'ship', 'truck']\n"
   ]
  },
  {
   "cell_type": "code",
   "execution_count": null,
   "metadata": {},
   "outputs": [],
   "source": [
    "class Net(nn.Module):\n",
    "    def __init__(self):\n",
    "        super(Net, self).__init__()\n",
    "        self.conv1 = nn.Sequential(nn.Conv2d(3, 32, 3, padding=1), nn.BatchNorm2d(32), nn.ReLU(), nn.MaxPool2d(2, 2))\n",
    "        self.conv2 = nn.Sequential(nn.Conv2d(32, 64, 3, padding=1), nn.BatchNorm2d(64), nn.ReLU(), nn.MaxPool2d(2, 2))\n",
    "        self.conv3 = nn.Sequential(nn.Conv2d(64, 128, 3, padding=1), nn.BatchNorm2d(128), nn.ReLU(), nn.MaxPool2d(2, 2))\n",
    "        self.fc1 = nn.Linear(128 * 4 * 4, 256)\n",
    "        self.fc2 = nn.Linear(256, 128)\n",
    "        self.fc3 = nn.Linear(128, 10)\n",
    "        self.dropout = nn.Dropout(0.5)\n",
    "\n",
    "    def forward(self, x):\n",
    "        x = self.conv1(x)\n",
    "        x = self.conv2(x)\n",
    "        x = self.conv3(x)\n",
    "        x = x.view(-1, 128 * 4 * 4)\n",
    "        x = self.dropout(F.relu(self.fc1(x)))\n",
    "        x = self.dropout(F.relu(self.fc2(x)))\n",
    "        x = self.fc3(x)\n",
    "        return x\n",
    "\n",
    "net = Net()"
   ]
  },
  {
   "cell_type": "code",
   "execution_count": null,
   "metadata": {},
   "outputs": [],
   "source": [
    "criterion = nn.CrossEntropyLoss()\n",
    "optimizer = optim.Adam(net.parameters(), lr=0.001)\n",
    "valid_loss_min = np.inf\n",
    "\n",
    "for epoch in range(num_epochs):\n",
    "    start_time = time.time()\n",
    "    train_loss = 0.0\n",
    "    valid_loss = 0.0\n",
    "    \n",
    "    # Training\n",
    "    net.train()\n",
    "    for data, target in train_loader:\n",
    "        data, target = data, target\n",
    "        optimizer.zero_grad()\n",
    "        output = net(data)\n",
    "        loss = criterion(output, target)\n",
    "        loss.backward()\n",
    "        optimizer.step()\n",
    "        train_loss += loss.item() * data.size(0)\n",
    "\n",
    "    # Validation\n",
    "    net.eval()\n",
    "    with torch.no_grad():\n",
    "        for data, target in valid_loader:\n",
    "            data, target = data, target\n",
    "            output = net(data)\n",
    "            loss = criterion(output, target)\n",
    "            valid_loss += loss.item() * data.size(0)\n",
    "    \n",
    "    # Calculate average loss\n",
    "    train_loss /= len(train_loader.dataset)\n",
    "    valid_loss /= len(valid_loader.dataset)\n",
    "\n",
    "    end_time = time.time()\n",
    "    epoch_time = end_time - start_time\n",
    "\n",
    "    print(f'Epoch: {epoch+1}/{num_epochs} | Time: {epoch_time:.3f}s | Training Loss: {train_loss:.4f} | Validation Loss: {valid_loss:.4f}')\n",
    "\n",
    "    # Save model if validation loss decreases\n",
    "    if valid_loss <= valid_loss_min:\n",
    "        print(f'Validation loss decreased ({valid_loss_min:.4f} --> {valid_loss:.4f}). Saving model as net_cifar10.pt')\n",
    "        torch.save(net.state_dict(), 'net_cifar10.pt')\n",
    "        valid_loss_min = valid_loss\n",
    "\n",
    "# Load the best model\n",
    "net.load_state_dict(torch.load('net_cifar10.pt'))\n",
    "print('Finished Training')"
   ]
  },
  {
   "cell_type": "code",
   "execution_count": null,
   "metadata": {},
   "outputs": [],
   "source": [
    "test_loss = 0.0\n",
    "class_correct = [0] * 10\n",
    "class_total = [0] * 10\n",
    "\n",
    "net.eval()\n",
    "with torch.no_grad():\n",
    "    for data, target in test_loader:\n",
    "        data, target = data, target\n",
    "        output = net(data)\n",
    "        loss = criterion(output, target)\n",
    "        test_loss += loss.item() * data.size(0)\n",
    "        _, pred = torch.max(output, 1)\n",
    "        correct = pred.eq(target.view_as(pred))\n",
    "        for i in range(len(target)):\n",
    "            label = target[i].item()\n",
    "            class_correct[label] += correct[i].item()\n",
    "            class_total[label] += 1\n",
    "\n",
    "test_loss /= len(test_loader.dataset)\n",
    "print(f'Test Loss: {test_loss:.6f}')\n",
    "\n",
    "overall_accuracy = 100. * np.sum(class_correct) / np.sum(class_total)\n",
    "print(f'\\nTest Accuracy (Overall): {overall_accuracy:.2f}%')"
   ]
  }
 ],
 "metadata": {
  "kernelspec": {
   "display_name": "Python 3",
   "language": "python",
   "name": "python3"
  },
  "language_info": {
   "codemirror_mode": {
    "name": "ipython",
    "version": 3
   },
   "file_extension": ".py",
   "mimetype": "text/x-python",
   "name": "python",
   "nbconvert_exporter": "python",
   "pygments_lexer": "ipython3",
   "version": "3.10.12"
  }
 },
 "nbformat": 4,
 "nbformat_minor": 2
}
